{
 "metadata": {
  "name": "",
  "signature": "sha256:752282694b9bff57b2cccc038811776c3324fda3e6ae75e04c64274e00fc33c9"
 },
 "nbformat": 3,
 "nbformat_minor": 0,
 "worksheets": [
  {
   "cells": [
    {
     "cell_type": "heading",
     "level": 1,
     "metadata": {},
     "source": [
      "Karta tutorial"
     ]
    },
    {
     "cell_type": "markdown",
     "metadata": {},
     "source": [
      "## Introduction\n",
      "\n",
      "Karta provides a lightweight set of tools for performing analyses of\n",
      "geographical data. The organization of karta is around a set of container\n",
      "classes for vector and raster data with builtin methods for common tasks. This\n",
      "tutorial provides a brief introduction to some of the main parts of karta.\n",
      "\n",
      "Should you come across any mistakes, I would very much appreciate if you could\n",
      "let me know, or even better, provide a pull request on\n",
      "[Github](https://github.com/njwilson23/karta)!\n",
      "\n",
      "The following exmaples are shown using Python 3, however *karta* is supported on\n",
      "both Python 2.7+ and Python 3.2+.\n",
      "\n",
      "## Definitions\n",
      "\n",
      "- **vector data** refers to data can is treated as a set of connected or\n",
      "  disconnected vertices. Examples might be road networks, a set of borders,\n",
      "  geophysical survey lines, or the path taken by a bottle floating in an ocean\n",
      "  current. In karta, these data are classified as belonging to *Point*,\n",
      "  *Multipoint*, *Line* or *Polygon* classes. Some questions that might be asked\n",
      "  of vector data include\n",
      "  - which of these points are contained in this polygon?\n",
      "  - how many times and where do these lines intersect each other?\n",
      "  - what is the average distance travelled by a particle?\n",
      "\n",
      "- **raster data**, in contrast, is data that are typically thought of in terms\n",
      "  of pixels or a grid of values covering a surface. Examples might be an\n",
      "  elevation map, satellite image, or an upstream area map. Operations on raster\n",
      "  data might include slope, aspect, and curvature calculations, up and\n",
      "  downsampling, and interpolation.\n",
      "\n",
      "- **Coordinate reference system** refers to a system of relating measurements on\n",
      "  a coordinate system to actual positions in space, e.g. on the curved surface\n",
      "  of the Earth. karta includes very basic support of projected and geographical\n",
      "  coordinates, but extending this system through *pyproj* is something I would\n",
      "  like to accomplish in the future.\n",
      "\n"
     ]
    },
    {
     "cell_type": "markdown",
     "metadata": {},
     "source": [
      "## Vector data\n",
      "\n",
      "Let's experiment with some vector data."
     ]
    },
    {
     "cell_type": "code",
     "collapsed": false,
     "input": [
      "import karta\n",
      "from karta.vector import Point, Multipoint, Line, Polygon"
     ],
     "language": "python",
     "metadata": {},
     "outputs": [],
     "prompt_number": 1
    },
    {
     "cell_type": "markdown",
     "metadata": {},
     "source": [
      "The `Point`, `Multipoint`, `Line`, and `Polygon` classes can all be instantiated\n",
      "by providing vertices, and optionally, associated data and metadata."
     ]
    },
    {
     "cell_type": "code",
     "collapsed": false,
     "input": [
      "pt = Point((-123.1, 49.25))\n",
      "\n",
      "mpt = Multipoint([(-122.93, 48.62),\n",
      "                  (-123.10, 48.54),\n",
      "                  (-122.90, 48.49),\n",
      "                  (-122.81, 48.56)])\n",
      "\n",
      "line = Line([(-124.35713, 49.31437),\n",
      "             (-124.37857, 49.31720),\n",
      "             (-124.39442, 49.31833),\n",
      "             (-124.40311, 49.31942),\n",
      "             (-124.41052, 49.32203),\n",
      "             (-124.41681, 49.32477),\n",
      "             (-124.42278, 49.32588)])\n",
      "\n",
      "poly = Polygon([(-25.41, 67.03),\n",
      "                (-24.83, 62.92),\n",
      "                (-12.76, 63.15),\n",
      "                (-11.44, 66.82)])\n",
      "\n",
      "print(pt)\n",
      "print(mpt)\n",
      "print(line)\n",
      "print(poly)"
     ],
     "language": "python",
     "metadata": {},
     "outputs": [
      {
       "output_type": "stream",
       "stream": "stdout",
       "text": [
        "Point((-123.1, 49.25))\n",
        "<class 'karta.vector.guppy.Multipoint'>\n",
        "[(-122.93, 48.62), (-123.1, 48.54), (-122.9, 48.49), (-122.81, 48.56)]\n",
        "Properties:{}\n",
        "<class 'karta.vector.guppy.Line'>\n",
        "[(-124.35713, 49.31437), (-124.37857, 49.3172)...(-124.41681, 49.32477), (-124.42278, 49.32588)]\n",
        "Properties:{}\n",
        "<class 'karta.vector.guppy.Polygon'>\n",
        "[(-25.41, 67.03), (-24.83, 62.92)...(-11.44, 66.82), (-25.41, 67.03)]\n",
        "Properties:{}\n"
       ]
      }
     ],
     "prompt_number": 2
    },
    {
     "cell_type": "markdown",
     "metadata": {},
     "source": [
      "Each geometrical object now contains a vertex/vertices in a cartesian plane.\n",
      "\n",
      "We may be interested in determining whether our point is within our polygon"
     ]
    },
    {
     "cell_type": "code",
     "collapsed": false,
     "input": [
      "print(poly.contains(pt))       # False\n",
      "\n",
      "pt2 = Point((-25, 65))\n",
      "print(poly.contains(pt2))      # True"
     ],
     "language": "python",
     "metadata": {},
     "outputs": [
      {
       "output_type": "stream",
       "stream": "stdout",
       "text": [
        "False\n",
        "True\n"
       ]
      }
     ],
     "prompt_number": 3
    },
    {
     "cell_type": "markdown",
     "metadata": {},
     "source": [
      "or whether our line crosses the polygon"
     ]
    },
    {
     "cell_type": "code",
     "collapsed": false,
     "input": [
      "print(line.intersects(poly))   # False"
     ],
     "language": "python",
     "metadata": {},
     "outputs": [
      {
       "output_type": "stream",
       "stream": "stdout",
       "text": [
        "False\n"
       ]
      }
     ],
     "prompt_number": 4
    },
    {
     "cell_type": "markdown",
     "metadata": {},
     "source": [
      "There are methods for computing the nearest vertex to an external point, or the nearest point on an edge to an external point:"
     ]
    },
    {
     "cell_type": "code",
     "collapsed": false,
     "input": [
      "pt = Point((0.0, 60.0))\n",
      "print(poly.nearest_point_to(pt))\n",
      "print(poly.nearest_on_boundary(pt))"
     ],
     "language": "python",
     "metadata": {},
     "outputs": [
      {
       "output_type": "stream",
       "stream": "stdout",
       "text": [
        "Point((-12.76, 63.15))\n",
        "Point((-12.301580009598124, 64.42454648846582))\n"
       ]
      }
     ],
     "prompt_number": 5
    },
    {
     "cell_type": "markdown",
     "metadata": {},
     "source": [
      "The vertices of multiple vertex objects can be iterated through and sliced:"
     ]
    },
    {
     "cell_type": "code",
     "collapsed": false,
     "input": [
      "subline = line[2:-2]\n",
      "for pt_ in subline:\n",
      "    print(pt_.vertex)"
     ],
     "language": "python",
     "metadata": {},
     "outputs": [
      {
       "output_type": "stream",
       "stream": "stdout",
       "text": [
        "(-124.39442, 49.31833)\n",
        "(-124.40311, 49.31942)\n",
        "(-124.41052, 49.32203)\n"
       ]
      }
     ],
     "prompt_number": 6
    },
    {
     "cell_type": "markdown",
     "metadata": {},
     "source": [
      "A slice that takes part of a polygon returns a line."
     ]
    },
    {
     "cell_type": "code",
     "collapsed": false,
     "input": [
      "print(poly[:2])"
     ],
     "language": "python",
     "metadata": {},
     "outputs": [
      {
       "output_type": "stream",
       "stream": "stdout",
       "text": [
        "<class 'karta.vector.guppy.Line'>\n",
        "[(-25.41, 67.03), (-24.83, 62.92)]\n",
        "Properties:{}\n"
       ]
      }
     ],
     "prompt_number": 7
    },
    {
     "cell_type": "markdown",
     "metadata": {},
     "source": [
      "Points have a `distance` that calculates the distance to another point. However, if we do"
     ]
    },
    {
     "cell_type": "code",
     "collapsed": false,
     "input": [
      "pt = Point((-123.1, 49.25))\n",
      "pt2 = Point((-70.66, 41.52))\n",
      "print(pt.distance(pt2))"
     ],
     "language": "python",
     "metadata": {},
     "outputs": [
      {
       "output_type": "stream",
       "stream": "stdout",
       "text": [
        "53.00666508061746\n"
       ]
      }
     ],
     "prompt_number": 8
    },
    {
     "cell_type": "markdown",
     "metadata": {},
     "source": [
      "this probably isn't what we wanted. Be default, geometries in Karta use a planar cartesian coordinate system. If our positions are meant to be geographical coordinates, then we can provide the `crs` argument to each geometry at creation, as in"
     ]
    },
    {
     "cell_type": "code",
     "collapsed": false,
     "input": [
      "pt = Point((-123.1, 49.25), crs=karta.LONLAT)\n",
      "pt2 = Point((-70.66, 41.52), crs=karta.LONLAT)\n",
      "pt.distance(pt2)"
     ],
     "language": "python",
     "metadata": {},
     "outputs": [
      {
       "metadata": {},
       "output_type": "pyout",
       "prompt_number": 9,
       "text": [
        "4109559.587727985"
       ]
      }
     ],
     "prompt_number": 9
    },
    {
     "cell_type": "markdown",
     "metadata": {},
     "source": [
      "which now gives the great circle distance between point on the Earth, in meters.\n",
      "\n",
      "When the coordinate system is specified, all geometrical methods obey that coordinate system. We can use this to perform queries, such which American state capitols are within 4000 km of Mexico City?"
     ]
    },
    {
     "cell_type": "code",
     "collapsed": false,
     "input": [
      "capitols = [Point((33.57, 112.1), properties={\"n\": \"Phoenix, Arizona, United States\"}, crs=karta.LONLAT),\n",
      "            Point((38.57, 121.5), properties={\"n\": \"Sacramento, California, United States\"}, crs=karta.LONLAT),\n",
      "            Point((33.76, 84.42), properties={\"n\": \"Atlanta, Georgia, United States\"}, crs=karta.LONLAT),\n",
      "            Point((39.78, 86.15), properties={\"n\": \"Indianapolis, Indiana, United States\"}, crs=karta.LONLAT),\n",
      "            Point((46.6, 112.0) , properties={\"n\": \"Helena, Montana, United States\"}, crs=karta.LONLAT),\n",
      "            Point((39.98, 82.99), properties={\"n\": \"Columbus, Ohio, United States\"}, crs=karta.LONLAT),\n",
      "            Point((37.53, 77.48), properties={\"n\": \"Richmond, Virginia, United States\"}, crs=karta.LONLAT),\n",
      "            Point((39.04, 95.69), properties={\"n\": \"Topeka, Kansas, United States\"}, crs=karta.LONLAT),\n",
      "            Point((42.33, 71.02), properties={\"n\": \"Boston, Massachusetts, United States\"}, crs=karta.LONLAT),\n",
      "            Point((40.81, 96.68), properties={\"n\": \"Lincoln, Nebraska, United States\"}, crs=karta.LONLAT),\n",
      "            Point((35.47, 97.51), properties={\"n\": \"Oklahoma City, Oklahoma, United States\"}, crs=karta.LONLAT),\n",
      "            Point((58.37, 134.2), properties={\"n\": \"Juneau, Alaska, United States\"}, crs=karta.LONLAT),\n",
      "            Point((44.38, 100.3), properties={\"n\": \"Pierre, South Dakota, United States\"}, crs=karta.LONLAT),\n",
      "            Point((21.31, 157.8), properties={\"n\": \"Honolulu, Hawaii, United States\"}, crs=karta.LONLAT),\n",
      "            Point((32.35, 86.27), properties={\"n\": \"Montgomery, Alabama, United States\"}, crs=karta.LONLAT),\n",
      "            Point((34.73, 92.36), properties={\"n\": \"Little Rock, Arkansas, United States\"}, crs=karta.LONLAT),\n",
      "            Point((39.76, 104.9), properties={\"n\": \"Denver, Colorado, United States\"}, crs=karta.LONLAT),\n",
      "            Point((41.77, 72.68), properties={\"n\": \"Hartford, Connecticut, United States\"}, crs=karta.LONLAT),\n",
      "            Point((39.16, 75.52), properties={\"n\": \"Dover, Delaware, United States\"}, crs=karta.LONLAT),\n",
      "            Point((38.9, 77.02) , properties={\"n\": \"Washington, District of Columbia, United States\"}, crs=karta.LONLAT),\n",
      "            Point((30.46, 84.25), properties={\"n\": \"Tallahassee, Florida, United States\"}, crs=karta.LONLAT),\n",
      "            Point((43.6, 116.2) , properties={\"n\": \"Boise, Idaho, United States\"}, crs=karta.LONLAT),\n",
      "            Point((39.76, 89.67), properties={\"n\": \"Springfield, Illinois, United States\"}, crs=karta.LONLAT),\n",
      "            Point((41.57, 93.62), properties={\"n\": \"Des Moines, Iowa, United States\"}, crs=karta.LONLAT),\n",
      "            Point((38.19, 84.87), properties={\"n\": \"Frankfort, Kentucky, United States\"}, crs=karta.LONLAT),\n",
      "            Point((30.45, 91.13), properties={\"n\": \"Baton Rouge, Louisiana, United States\"}, crs=karta.LONLAT),\n",
      "            Point((44.33, 69.73), properties={\"n\": \"Augusta, Maine, United States\"}, crs=karta.LONLAT),\n",
      "            Point((38.97, 76.51), properties={\"n\": \"Annapolis, Maryland, United States\"}, crs=karta.LONLAT),\n",
      "            Point((42.71, 84.56), properties={\"n\": \"Lansing, Michigan, United States\"}, crs=karta.LONLAT),\n",
      "            Point((44.95, 93.1) , properties={\"n\": \"Saint Paul, Minnesota, United States\"}, crs=karta.LONLAT),\n",
      "            Point((32.32, 90.21), properties={\"n\": \"Jackson, Mississippi, United States\"}, crs=karta.LONLAT),\n",
      "            Point((38.57, 92.18), properties={\"n\": \"Jefferson City, Missouri, United States\"}, crs=karta.LONLAT),\n",
      "            Point((39.15, 119.7), properties={\"n\": \"Carson City, Nevada, United States\"}, crs=karta.LONLAT),\n",
      "            Point((43.23, 71.56), properties={\"n\": \"Concord, New Hampshire, United States\"}, crs=karta.LONLAT),\n",
      "            Point((40.22, 74.76), properties={\"n\": \"Trenton, New Jersey, United States\"}, crs=karta.LONLAT),\n",
      "            Point((35.67, 106.0), properties={\"n\": \"Santa Fe, New Mexico, United States\"}, crs=karta.LONLAT),\n",
      "            Point((42.67, 73.8) , properties={\"n\": \"Albany, New York, United States\"}, crs=karta.LONLAT),\n",
      "            Point((35.83, 78.64), properties={\"n\": \"Raleigh, North Carolina, United States\"}, crs=karta.LONLAT),\n",
      "            Point((46.81, 100.8), properties={\"n\": \"Bismarck, North Dakota, United States\"}, crs=karta.LONLAT),\n",
      "            Point((44.92, 123.0), properties={\"n\": \"Salem, Oregon, United States\"}, crs=karta.LONLAT),\n",
      "            Point((40.28, 76.89), properties={\"n\": \"Harrisburg, Pennsylvania, United States\"}, crs=karta.LONLAT),\n",
      "            Point((41.82, 71.42), properties={\"n\": \"Providence, Rhode Island, United States\"}, crs=karta.LONLAT),\n",
      "            Point((34.02, 81.01), properties={\"n\": \"Columbia, South Carolina, United States\"}, crs=karta.LONLAT),\n",
      "            Point((36.17, 86.78), properties={\"n\": \"Nashville, Tennessee, United States\"}, crs=karta.LONLAT),\n",
      "            Point((30.31, 97.76), properties={\"n\": \"Austin, Texas, United States\"}, crs=karta.LONLAT),\n",
      "            Point((40.78, 111.9), properties={\"n\": \"Salt Lake City, Utah, United States\"}, crs=karta.LONLAT),\n",
      "            Point((44.27, 72.57), properties={\"n\": \"Montpelier, Vermont, United States\"}, crs=karta.LONLAT),\n",
      "            Point((47.04, 122.9), properties={\"n\": \"Olympia, Washington, United States\"}, crs=karta.LONLAT),\n",
      "            Point((38.35, 81.63), properties={\"n\": \"Charleston, West Virginia, United States\"}, crs=karta.LONLAT),\n",
      "            Point((43.09, 89.43), properties={\"n\": \"Madison, Wisconsin, United States\"}, crs=karta.LONLAT),\n",
      "            Point((41.15, 104.8), properties={\"n\": \"Cheyenne, Wyoming, United States\"}, crs=karta.LONLAT)]\n",
      "\n",
      "#capitols = Multipoint(capitols)\n"
     ],
     "language": "python",
     "metadata": {},
     "outputs": [],
     "prompt_number": 15
    },
    {
     "cell_type": "code",
     "collapsed": false,
     "input": [
      "capitols[0].data + capitols[1].data"
     ],
     "language": "python",
     "metadata": {},
     "outputs": [
      {
       "metadata": {},
       "output_type": "pyout",
       "prompt_number": 17,
       "text": [
        "D[]"
       ]
      }
     ],
     "prompt_number": 17
    },
    {
     "cell_type": "code",
     "collapsed": false,
     "input": [
      "result = ca"
     ],
     "language": "python",
     "metadata": {},
     "outputs": []
    },
    {
     "cell_type": "markdown",
     "metadata": {},
     "source": [
      "**TODO: describe other geometries**"
     ]
    },
    {
     "cell_type": "markdown",
     "metadata": {},
     "source": [
      "### Associated data\n",
      "\n",
      "By using the `data` keyword argument, additional data can be associated with a\n",
      "vector geometry."
     ]
    },
    {
     "cell_type": "code",
     "collapsed": false,
     "input": [
      "mp = Multipoint([(1, 1), (3, 1), (4, 3), (2, 2)],\n",
      "                data={\"species\": [\"T. officianale\", \"C. tectorum\",\n",
      "                                  \"M. alba\", \"V. cracca\"]})"
     ],
     "language": "python",
     "metadata": {},
     "outputs": [],
     "prompt_number": 9
    },
    {
     "cell_type": "markdown",
     "metadata": {},
     "source": [
      "The data can be a list or a dictionary of lists, and are propogated through\n",
      "subsequent operations."
     ]
    },
    {
     "cell_type": "code",
     "collapsed": false,
     "input": [
      "pt = mp[2]\n",
      "\n",
      "print(pt)\n",
      "print(pt.data[\"species\"])"
     ],
     "language": "python",
     "metadata": {},
     "outputs": [
      {
       "output_type": "stream",
       "stream": "stdout",
       "text": [
        "Point((4, 3))\n",
        "M. alba\n"
       ]
      }
     ],
     "prompt_number": 10
    },
    {
     "cell_type": "markdown",
     "metadata": {},
     "source": [
      "Metadata at the geometry level rather than the point level can be provided using\n",
      "the `properties` keyword argument, which accepts a dictionary. Derived geometries\n",
      "carry the properties of their parent geometry."
     ]
    },
    {
     "cell_type": "code",
     "collapsed": false,
     "input": [
      "poly = Polygon([(-25.41, 67.03),\n",
      "                (-24.83, 62.92),\n",
      "                (-12.76, 63.15),\n",
      "                (-11.44, 66.82)],\n",
      "               properties={\"geology\": \"volcanic\",\n",
      "                           \"alcohol\": \"brennivin\"})\n",
      "\n",
      "print(poly[0:3])"
     ],
     "language": "python",
     "metadata": {},
     "outputs": [
      {
       "output_type": "stream",
       "stream": "stdout",
       "text": [
        "<class 'karta.vector.guppy.Line'>\n",
        "[(-25.41, 67.03), (-24.83, 62.92), (-12.76, 63.15)]\n",
        "Properties:{'alcohol': 'brennivin', 'geology': 'volcanic'}\n"
       ]
      }
     ],
     "prompt_number": 11
    },
    {
     "cell_type": "markdown",
     "metadata": {},
     "source": [
      "### Visualizing and importing/exporting data\n",
      "\n",
      "The `get_coordinate_lists` method provides lists of coordinates, which make is\n",
      "easy to visualize a geometry."
     ]
    },
    {
     "cell_type": "code",
     "collapsed": false,
     "input": [
      "import matplotlib.pyplot as plt\n",
      "%matplotlib qt\n",
      "plt.plot(*line.get_coordinate_lists())"
     ],
     "language": "python",
     "metadata": {},
     "outputs": [
      {
       "metadata": {},
       "output_type": "pyout",
       "prompt_number": 15,
       "text": [
        "[<matplotlib.lines.Line2D at 0x7fe3ae419518>]"
       ]
      }
     ],
     "prompt_number": 15
    },
    {
     "cell_type": "markdown",
     "metadata": {},
     "source": [
      "Data can be read from several common formats, including ESRI shapefiles (through\n",
      "bindings to the *pyshp* module), GeoJSON, GPX, and comma separated value tables.\n",
      "Convenience functions are kept in the `karta.vector.read` namespace.\n",
      "\n",
      "Each geometry has appropriate methods to save data:"
     ]
    },
    {
     "cell_type": "code",
     "collapsed": false,
     "input": [
      "mp.to_vtk(\"my_vtk.vtk\")\n",
      "line.to_shapefile(\"my_shapefile\")\n",
      "poly.to_geojson(\"my_json.json\")"
     ],
     "language": "python",
     "metadata": {},
     "outputs": [
      {
       "metadata": {},
       "output_type": "pyout",
       "prompt_number": 13,
       "text": [
        "<karta.vector.geojson.GeoJSONWriter at 0x7fe3b5574c50>"
       ]
      }
     ],
     "prompt_number": 13
    },
    {
     "cell_type": "markdown",
     "metadata": {},
     "source": [
      "## Raster data\n",
      "\n",
      "\n"
     ]
    },
    {
     "cell_type": "code",
     "collapsed": false,
     "input": [],
     "language": "python",
     "metadata": {},
     "outputs": []
    }
   ],
   "metadata": {}
  }
 ]
}