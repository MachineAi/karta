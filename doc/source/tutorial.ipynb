{
 "cells": [
  {
   "cell_type": "markdown",
   "metadata": {},
   "source": [
    "[Back to manual](../karta-manual.html)\n",
    "\n",
    "[Back to introduction](../introduction.html)"
   ]
  },
  {
   "cell_type": "markdown",
   "metadata": {},
   "source": [
    "# Karta tutorial\n",
    "\n",
    "\n",
    "## Introduction\n",
    "\n",
    "*Karta* provides a lightweight set of tools for performing analyses of\n",
    "geographical data. The organization of karta is around a set of container\n",
    "classes for vector and raster data with builtin methods for common tasks. This\n",
    "tutorial provides a brief introduction to some of the main parts of karta.\n",
    "\n",
    "Should you come across any mistakes, let me know, or even better, provide a pull\n",
    "request on [Github](https://github.com/fortyninemaps/karta)!\n",
    "\n",
    "The following examples are shown using Python 3, however *Karta* is supported on\n",
    "both Python 2.7+ and Python 3.4+.\n",
    "\n",
    "## Definitions\n",
    "\n",
    "**Vector data** are data that can be treated as a set of connected or\n",
    "disconnected vertices. Examples might be road networks, a set of borders,\n",
    "geophysical survey lines, or the path taken by a bottle floating in an ocean\n",
    "current. In *Karta*, these data are classified as belonging to *Point*,\n",
    "*Multipoint*, *Line* or *Polygon* classes. Some questions that might be asked\n",
    "of vector data include\n",
    "\n",
    "- which of these points are contained in this polygon?\n",
    "- how many times and where do these lines intersect each other?\n",
    "- what is the average distance travelled by a particle?\n",
    "- what municipalities does this river flow through?\n",
    "\n",
    "**Raster data**, in contrast, is data that are typically thought of in terms\n",
    "of pixels or a grid of values covering a surface. Examples might be an\n",
    "elevation map, satellite image, or an upstream area map. Depending on what the\n",
    "data represents, one might\n",
    "\n",
    "- ask what are the slope and aspect of this DEM?\n",
    "- downsample or interpolate a grid\n",
    "- apply a pansharpening algorithm to multispectral satellite imagery\n",
    "- extract an elevation profile along a path\n",
    "\n",
    "The term **coordinate reference system** refers to a system of relating measurements\n",
    "on a coordinate system to actual positions on Earth. *Karta* includes methods for\n",
    "geodetic calculations and basic support of projected and geographical\n",
    "coordinates, as well as coordinate system classes backed by *pyproj*."
   ]
  },
  {
   "cell_type": "markdown",
   "metadata": {},
   "source": [
    "## Vector data\n",
    "\n",
    "Let's experiment with some vector data."
   ]
  },
  {
   "cell_type": "code",
   "execution_count": 1,
   "metadata": {
    "collapsed": false
   },
   "outputs": [],
   "source": [
    "from karta.vector import Point, Multipoint, Line, Polygon"
   ]
  },
  {
   "cell_type": "markdown",
   "metadata": {},
   "source": [
    "The `Point`, `Multipoint`, `Line`, and `Polygon` classes can all be instantiated\n",
    "by providing vertices, and optionally, associated data and metadata."
   ]
  },
  {
   "cell_type": "code",
   "execution_count": 2,
   "metadata": {
    "collapsed": false
   },
   "outputs": [
    {
     "name": "stdout",
     "output_type": "stream",
     "text": [
      "Point(-123.1, 49.25)\n"
     ]
    }
   ],
   "source": [
    "pt = Point((-123.1, 49.25))\n",
    "print(pt)"
   ]
  },
  {
   "cell_type": "code",
   "execution_count": 3,
   "metadata": {
    "collapsed": false
   },
   "outputs": [
    {
     "name": "stdout",
     "output_type": "stream",
     "text": [
      "<karta.vector.geometry.Multipoint object at 0x7f89963d09b0>\n"
     ]
    }
   ],
   "source": [
    "mpt = Multipoint([(-122.93, 48.62),\n",
    "                  (-123.10, 48.54),\n",
    "                  (-122.90, 48.49),\n",
    "                  (-122.81, 48.56)])\n",
    "print(mpt)"
   ]
  },
  {
   "cell_type": "code",
   "execution_count": 4,
   "metadata": {
    "collapsed": false
   },
   "outputs": [
    {
     "name": "stdout",
     "output_type": "stream",
     "text": [
      "<karta.vector.geometry.Line object at 0x7f89963d0d30>\n"
     ]
    }
   ],
   "source": [
    "line = Line([(-124.35713, 49.31437),\n",
    "             (-124.37857, 49.31720),\n",
    "             (-124.39442, 49.31833),\n",
    "             (-124.40311, 49.31942),\n",
    "             (-124.41052, 49.32203),\n",
    "             (-124.41681, 49.32477),\n",
    "             (-124.42278, 49.32588)])\n",
    "print(line)"
   ]
  },
  {
   "cell_type": "code",
   "execution_count": 5,
   "metadata": {
    "collapsed": false
   },
   "outputs": [
    {
     "name": "stdout",
     "output_type": "stream",
     "text": [
      "<karta.vector.geometry.Polygon object at 0x7f89963d0a58>\n"
     ]
    }
   ],
   "source": [
    "poly = Polygon([(-25.41, 67.03),\n",
    "                (-24.83, 62.92),\n",
    "                (-12.76, 63.15),\n",
    "                (-11.44, 66.82)])\n",
    "print(poly)"
   ]
  },
  {
   "cell_type": "markdown",
   "metadata": {},
   "source": [
    "Each geometrical object now contains a vertex/vertices in a cartesian plane.\n",
    "\n",
    "We may be interested in determining whether our point is within our polygon"
   ]
  },
  {
   "cell_type": "code",
   "execution_count": 6,
   "metadata": {
    "collapsed": false
   },
   "outputs": [
    {
     "name": "stdout",
     "output_type": "stream",
     "text": [
      "False\n"
     ]
    }
   ],
   "source": [
    "print(poly.contains(pt))       # False"
   ]
  },
  {
   "cell_type": "code",
   "execution_count": 7,
   "metadata": {
    "collapsed": false
   },
   "outputs": [
    {
     "name": "stdout",
     "output_type": "stream",
     "text": [
      "True\n"
     ]
    }
   ],
   "source": [
    "pt2 = Point((-25, 65))\n",
    "print(poly.contains(pt2))      # True"
   ]
  },
  {
   "cell_type": "markdown",
   "metadata": {},
   "source": [
    "or whether our line crosses the polygon"
   ]
  },
  {
   "cell_type": "code",
   "execution_count": 8,
   "metadata": {
    "collapsed": false
   },
   "outputs": [
    {
     "name": "stdout",
     "output_type": "stream",
     "text": [
      "False\n"
     ]
    }
   ],
   "source": [
    "print(line.intersects(poly))   # False"
   ]
  },
  {
   "cell_type": "markdown",
   "metadata": {},
   "source": [
    "There are methods for computing the nearest vertex to an external point, or the nearest point on an edge to an external point:"
   ]
  },
  {
   "cell_type": "code",
   "execution_count": 9,
   "metadata": {
    "collapsed": false
   },
   "outputs": [
    {
     "name": "stdout",
     "output_type": "stream",
     "text": [
      "2\n",
      "Point(-12.301580009598124, 64.42454648846582)\n"
     ]
    }
   ],
   "source": [
    "pt = Point((0.0, 60.0))\n",
    "print(poly.nearest_vertex_to(pt))\n",
    "print(poly.nearest_on_boundary(pt))"
   ]
  },
  {
   "cell_type": "markdown",
   "metadata": {},
   "source": [
    "The vertices of multiple vertex objects can be iterated through and sliced:"
   ]
  },
  {
   "cell_type": "code",
   "execution_count": 10,
   "metadata": {
    "collapsed": false
   },
   "outputs": [
    {
     "name": "stdout",
     "output_type": "stream",
     "text": [
      "(-124.39442, 49.31833)\n",
      "(-124.40311, 49.31942)\n",
      "(-124.41052, 49.32203)\n"
     ]
    }
   ],
   "source": [
    "section = line[2:-2]\n",
    "for pt in section:\n",
    "    print(pt.vertex)"
   ]
  },
  {
   "cell_type": "markdown",
   "metadata": {},
   "source": [
    "A slice that takes part of a polygon returns a line."
   ]
  },
  {
   "cell_type": "code",
   "execution_count": 11,
   "metadata": {
    "collapsed": false
   },
   "outputs": [
    {
     "name": "stdout",
     "output_type": "stream",
     "text": [
      "<karta.vector.geometry.Line object at 0x7f89963d0e80>\n"
     ]
    }
   ],
   "source": [
    "print(poly[:2])"
   ]
  },
  {
   "cell_type": "markdown",
   "metadata": {},
   "source": [
    "Points have a `distance` that calculates the distance to another point. However, if we do"
   ]
  },
  {
   "cell_type": "code",
   "execution_count": 12,
   "metadata": {
    "collapsed": false
   },
   "outputs": [
    {
     "name": "stdout",
     "output_type": "stream",
     "text": [
      "53.00666467530286\n"
     ]
    }
   ],
   "source": [
    "pt = Point((-123.1, 49.25))\n",
    "pt2 = Point((-70.66, 41.52))\n",
    "print(pt.distance(pt2))"
   ]
  },
  {
   "cell_type": "markdown",
   "metadata": {},
   "source": [
    "this probably isn't what we wanted. Be default, geometries in Karta use a planar cartesian coordinate system. If our positions are meant to be geographical coordinates, then we can provide the `crs` argument to each geometry at creation, as in"
   ]
  },
  {
   "cell_type": "code",
   "execution_count": 13,
   "metadata": {
    "collapsed": false
   },
   "outputs": [
    {
     "data": {
      "text/plain": [
       "4109559.587727985"
      ]
     },
     "execution_count": 13,
     "metadata": {},
     "output_type": "execute_result"
    }
   ],
   "source": [
    "from karta.crs import LonLatWGS84\n",
    "\n",
    "pt = Point((-123.1, 49.25), crs=LonLatWGS84)\n",
    "pt2 = Point((-70.66, 41.52), crs=LonLatWGS84)\n",
    "pt.distance(pt2)"
   ]
  },
  {
   "cell_type": "markdown",
   "metadata": {},
   "source": [
    "which now gives the great circle distance between point on the Earth, in meters.\n",
    "\n",
    "When the coordinate system is specified, all geometrical methods obey that coordinate system. We can use this to perform queries, such which American state capitols are within 2000 km of Mexico City?"
   ]
  },
  {
   "cell_type": "code",
   "execution_count": 14,
   "metadata": {
    "collapsed": false
   },
   "outputs": [],
   "source": [
    "from karta.examples import us_capitols\n",
    "mexico_city = Point((-99.13, 19.43), crs=LonLatWGS84)"
   ]
  },
  {
   "cell_type": "code",
   "execution_count": 15,
   "metadata": {
    "collapsed": false
   },
   "outputs": [
    {
     "name": "stdout",
     "output_type": "stream",
     "text": [
      "Phoenix, Arizona, United States (-112.1, 33.57)\n",
      "Sacramento, California, United States (-121.5, 38.57)\n",
      "Atlanta, Georgia, United States (-84.42, 33.76)\n",
      "Indianapolis, Indiana, United States (-86.15, 39.78)\n",
      "Helena, Montana, United States (-112.0, 46.6)\n",
      "Columbus, Ohio, United States (-82.99, 39.98)\n",
      "Richmond, Virginia, United States (-77.48, 37.53)\n",
      "Topeka, Kansas, United States (-95.69, 39.04)\n",
      "Boston, Massachusetts, United States (-71.02, 42.33)\n",
      "Lincoln, Nebraska, United States (-96.68, 40.81)\n",
      "Oklahoma City, Oklahoma, United States (-97.51, 35.47)\n",
      "Juneau, Alaska, United States (-134.2, 58.37)\n",
      "Pierre, South Dakota, United States (-100.3, 44.38)\n",
      "Honolulu, Hawaii, United States (-157.8, 21.31)\n",
      "Montgomery, Alabama, United States (-86.27, 32.35)\n",
      "Little Rock, Arkansas, United States (-92.36, 34.73)\n",
      "Denver, Colorado, United States (-104.9, 39.76)\n",
      "Hartford, Connecticut, United States (-72.68, 41.77)\n",
      "Dover, Delaware, United States (-75.52, 39.16)\n",
      "Washington, District of Columbia, United States (-77.02, 38.9)\n",
      "Tallahassee, Florida, United States (-84.25, 30.46)\n",
      "Boise, Idaho, United States (-116.2, 43.6)\n",
      "Springfield, Illinois, United States (-89.67, 39.76)\n",
      "Des Moines, Iowa, United States (-93.62, 41.57)\n",
      "Frankfort, Kentucky, United States (-84.87, 38.19)\n",
      "Baton Rouge, Louisiana, United States (-91.13, 30.45)\n",
      "Augusta, Maine, United States (-69.73, 44.33)\n",
      "Annapolis, Maryland, United States (-76.51, 38.97)\n",
      "Lansing, Michigan, United States (-84.56, 42.71)\n",
      "Saint Paul, Minnesota, United States (-93.1, 44.95)\n",
      "Jackson, Mississippi, United States (-90.21, 32.32)\n",
      "Jefferson City, Missouri, United States (-92.18, 38.57)\n",
      "Carson City, Nevada, United States (-119.7, 39.15)\n",
      "Concord, New Hampshire, United States (-71.56, 43.23)\n",
      "Trenton, New Jersey, United States (-74.76, 40.22)\n",
      "Santa Fe, New Mexico, United States (-106.0, 35.67)\n",
      "Albany, New York, United States (-73.8, 42.67)\n",
      "Raleigh, North Carolina, United States (-78.64, 35.83)\n",
      "Bismarck, North Dakota, United States (-100.8, 46.81)\n",
      "Salem, Oregon, United States (-123.0, 44.92)\n",
      "Harrisburg, Pennsylvania, United States (-76.89, 40.28)\n",
      "Providence, Rhode Island, United States (-71.42, 41.82)\n",
      "Columbia, South Carolina, United States (-81.01, 34.02)\n",
      "Nashville, Tennessee, United States (-86.78, 36.17)\n",
      "Austin, Texas, United States (-97.76, 30.31)\n",
      "Salt Lake City, Utah, United States (-111.9, 40.78)\n",
      "Montpelier, Vermont, United States (-72.57, 44.27)\n",
      "Olympia, Washington, United States (-122.9, 47.04)\n",
      "Charleston, West Virginia, United States (-81.63, 38.35)\n",
      "Madison, Wisconsin, United States (-89.43, 43.09)\n",
      "Cheyenne, Wyoming, United States (-104.8, 41.15)\n"
     ]
    }
   ],
   "source": [
    "# List all US state capitols\n",
    "for capitol in us_capitols:\n",
    "    print(capitol.properties[\"n\"], capitol.vertex)"
   ]
  },
  {
   "cell_type": "code",
   "execution_count": 16,
   "metadata": {
    "collapsed": false
   },
   "outputs": [
    {
     "name": "stdout",
     "output_type": "stream",
     "text": [
      "Oklahoma City, Oklahoma, United States\n",
      "Montgomery, Alabama, United States\n",
      "Little Rock, Arkansas, United States\n",
      "Tallahassee, Florida, United States\n",
      "Baton Rouge, Louisiana, United States\n",
      "Jackson, Mississippi, United States\n",
      "Santa Fe, New Mexico, United States\n",
      "Austin, Texas, United States\n"
     ]
    }
   ],
   "source": [
    "# Filter those within 2000 km of Mexico City\n",
    "nearby = list(filter(lambda pt: pt.distance(mexico_city) < 2000e3, us_capitols))\n",
    "for capitol in nearby:\n",
    "    print(capitol.properties[\"n\"])"
   ]
  },
  {
   "cell_type": "code",
   "execution_count": 17,
   "metadata": {
    "collapsed": false
   },
   "outputs": [
    {
     "name": "stdout",
     "output_type": "stream",
     "text": [
      "1213 km, Austin, Texas, United States\n",
      "1463 km, Baton Rouge, Louisiana, United States\n",
      "1683 km, Jackson, Mississippi, United States\n",
      "1785 km, Oklahoma City, Oklahoma, United States\n",
      "1822 km, Little Rock, Arkansas, United States\n",
      "1922 km, Santa Fe, New Mexico, United States\n",
      "1923 km, Montgomery, Alabama, United States\n",
      "1933 km, Tallahassee, Florida, United States\n",
      "2027 km, Phoenix, Arizona, United States\n",
      "2155 km, Atlanta, Georgia, United States\n",
      "2199 km, Topeka, Kansas, United States\n",
      "2214 km, Nashville, Tennessee, United States\n",
      "2225 km, Jefferson City, Missouri, United States\n",
      "2320 km, Denver, Colorado, United States\n",
      "2382 km, Lincoln, Nebraska, United States\n",
      "2414 km, Columbia, South Carolina, United States\n",
      "2429 km, Springfield, Illinois, United States\n",
      "2467 km, Cheyenne, Wyoming, United States\n",
      "2495 km, Frankfort, Kentucky, United States\n",
      "2510 km, Des Moines, Iowa, United States\n",
      "2576 km, Indianapolis, Indiana, United States\n",
      "2661 km, Salt Lake City, Utah, United States\n",
      "2694 km, Charleston, West Virginia, United States\n",
      "2708 km, Raleigh, North Carolina, United States\n",
      "2752 km, Columbus, Ohio, United States\n",
      "2769 km, Pierre, South Dakota, United States\n",
      "2777 km, Madison, Wisconsin, United States\n",
      "2885 km, Saint Paul, Minnesota, United States\n",
      "2904 km, Richmond, Virginia, United States\n",
      "2922 km, Lansing, Michigan, United States\n",
      "2947 km, Carson City, Nevada, United States\n",
      "3025 km, Sacramento, California, United States\n",
      "3030 km, Washington, District of Columbia, United States\n",
      "3041 km, Bismarck, North Dakota, United States\n",
      "3070 km, Annapolis, Maryland, United States\n",
      "3118 km, Boise, Idaho, United States\n",
      "3137 km, Harrisburg, Pennsylvania, United States\n",
      "3150 km, Dover, Delaware, United States\n",
      "3235 km, Helena, Montana, United States\n",
      "3274 km, Trenton, New Jersey, United States\n",
      "3506 km, Albany, New York, United States\n",
      "3517 km, Hartford, Connecticut, United States\n",
      "3585 km, Salem, Oregon, United States\n",
      "3605 km, Providence, Rhode Island, United States\n",
      "3665 km, Boston, Massachusetts, United States\n",
      "3688 km, Concord, New Hampshire, United States\n",
      "3696 km, Montpelier, Vermont, United States\n",
      "3748 km, Olympia, Washington, United States\n",
      "3879 km, Augusta, Maine, United States\n",
      "5172 km, Juneau, Alaska, United States\n",
      "6093 km, Honolulu, Hawaii, United States\n"
     ]
    }
   ],
   "source": [
    "# Or, list capitols from nearest to furthest from Mexico City\n",
    "distances = map(lambda pt: mexico_city.distance(pt), us_capitols)\n",
    "distances_capitols = sorted(zip(distances, us_capitols))\n",
    "for d, pt in distances_capitols:\n",
    "    print(\"{km:.0f} km, {name}\".format(km=d/1e3, name=pt.properties[\"n\"]))"
   ]
  },
  {
   "cell_type": "markdown",
   "metadata": {},
   "source": [
    "All of the above calculations are performed on a geoid. The `LonLatWGS84` coordinate system means to use geographical (longitude and latitude) coordinates on the WGS 84 ellipsoid."
   ]
  },
  {
   "cell_type": "markdown",
   "metadata": {},
   "source": [
    "### Associated data\n",
    "\n",
    "By using the `data` keyword argument, additional data can be associated with a\n",
    "vector geometry."
   ]
  },
  {
   "cell_type": "code",
   "execution_count": 18,
   "metadata": {
    "collapsed": false
   },
   "outputs": [],
   "source": [
    "mp = Multipoint([(1, 1), (3, 1), (4, 3), (2, 2)],\n",
    "                data={\"species\": [\"T. officianale\", \"C. tectorum\",\n",
    "                                  \"M. alba\", \"V. cracca\"]})"
   ]
  },
  {
   "cell_type": "markdown",
   "metadata": {},
   "source": [
    "The data can be a list or a dictionary of lists, and are propogated through\n",
    "subsequent operations."
   ]
  },
  {
   "cell_type": "code",
   "execution_count": 19,
   "metadata": {
    "collapsed": false
   },
   "outputs": [
    {
     "name": "stdout",
     "output_type": "stream",
     "text": [
      "Point(4, 3)\n"
     ]
    }
   ],
   "source": [
    "pt = mp[2]\n",
    "print(pt)"
   ]
  },
  {
   "cell_type": "code",
   "execution_count": 20,
   "metadata": {
    "collapsed": false
   },
   "outputs": [
    {
     "name": "stdout",
     "output_type": "stream",
     "text": [
      "M. alba\n"
     ]
    }
   ],
   "source": [
    "print(pt.properties[\"species\"])"
   ]
  },
  {
   "cell_type": "markdown",
   "metadata": {},
   "source": [
    "Metadata at the geometry level rather than the point level can be provided using\n",
    "the `properties` keyword argument, which accepts a dictionary. Derived geometries\n",
    "carry the properties of their parent geometry."
   ]
  },
  {
   "cell_type": "code",
   "execution_count": 21,
   "metadata": {
    "collapsed": false
   },
   "outputs": [
    {
     "name": "stdout",
     "output_type": "stream",
     "text": [
      "{'alcohol': 'brennivin', 'geology': 'volcanic'}\n"
     ]
    }
   ],
   "source": [
    "poly = Polygon([(-25.41, 67.03),\n",
    "                (-24.83, 62.92),\n",
    "                (-12.76, 63.15),\n",
    "                (-11.44, 66.82)],\n",
    "               properties={\"geology\": \"volcanic\",\n",
    "                           \"alcohol\": \"brennivin\"})\n",
    "print(poly[0:3].properties)"
   ]
  },
  {
   "cell_type": "markdown",
   "metadata": {},
   "source": [
    "### Visualizing and importing/exporting data\n",
    "\n",
    "The `get_coordinate_lists` method and `coordinates` attribute provide lists of\n",
    "coordinates, which make it easy to visualize a geometry. Higher-level plotting\n",
    "operations are provided by the separate\n",
    "[`karta.mapping`](https://github.com/fortyninemaps/karta-map) submodule, not\n",
    "described here."
   ]
  },
  {
   "cell_type": "code",
   "execution_count": 22,
   "metadata": {
    "collapsed": false
   },
   "outputs": [
    {
     "data": {
      "text/plain": [
       "[<matplotlib.lines.Line2D at 0x7f898cad2710>]"
      ]
     },
     "execution_count": 22,
     "metadata": {},
     "output_type": "execute_result"
    },
    {
     "data": {
      "image/png": "[encoded data removed]",
      "text/plain": [
       "<matplotlib.figure.Figure at 0x7f89963d0fd0>"
      ]
     },
     "metadata": {},
     "output_type": "display_data"
    }
   ],
   "source": [
    "import matplotlib.pyplot as plt\n",
    "%matplotlib inline\n",
    "plt.plot(*line.coordinates)"
   ]
  },
  {
   "cell_type": "markdown",
   "metadata": {},
   "source": [
    "Data can be read from several common formats, including ESRI shapefiles (through\n",
    "bindings to the *pyshp* module), GeoJSON, GPX, and comma separated value tables.\n",
    "Convenience functions are kept in the `karta.vector.read` namespace.\n",
    "\n",
    "Each geometry has appropriate methods to save data:"
   ]
  },
  {
   "cell_type": "code",
   "execution_count": 23,
   "metadata": {
    "collapsed": false
   },
   "outputs": [],
   "source": [
    "line.to_shapefile(\"my_shapefile\")\n",
    "poly.to_geojson(\"my_json.json\")"
   ]
  },
  {
   "cell_type": "markdown",
   "metadata": {},
   "source": [
    "## Raster data\n",
    "\n",
    "Raster data are primarily represented by the `karta.RegularGrid` class. `RegularGrid` instances have a CRS, a Null-data value, a geotransform, and one or more *bands*, which containing the actual data.\n",
    "\n",
    "### Bands\n",
    "\n",
    "To provide flexibility, different band instances are provided by `karta.raster.bands` using different strategies for data storage.\n",
    "\n",
    "- The simplest case, `SimpleBand`, uses a numpy array to store all data. This makes it reasonably fast, but can use a lot of memory when opening multiple large rasters.\n",
    "- The default case, `CompressedBand`, uses chunking and blosc compression to reduce the memory footprint of the raster data, at a small speed cost.\n",
    "- Finally, `GdalFileBand` reads data directly from a valid GDAL datasource, using the least memory but performing the slowest.\n",
    "\n",
    "> Note: `GdalFileBand` doesn't currently handle all raster operations supported by the other band types."
   ]
  },
  {
   "cell_type": "code",
   "execution_count": 24,
   "metadata": {
    "collapsed": false
   },
   "outputs": [
    {
     "name": "stdout",
     "output_type": "stream",
     "text": [
      "[<karta.raster.band.CompressedBand object at 0x7f898ca82e10>]\n"
     ]
    }
   ],
   "source": [
    "import numpy as np\n",
    "from karta.raster import RegularGrid, SimpleBand, CompressedBand, read_gtiff\n",
    "\n",
    "ls8 = read_gtiff(\"LC80080032016087LGN00_B2.TIF\")\n",
    "print(ls8.bands)     # list of one CompressedBand instance"
   ]
  },
  {
   "cell_type": "code",
   "execution_count": 25,
   "metadata": {
    "collapsed": false
   },
   "outputs": [
    {
     "name": "stdout",
     "output_type": "stream",
     "text": [
      "(9141, 9151)\n"
     ]
    }
   ],
   "source": [
    "# Print grid dimensions\n",
    "print(ls8.size)"
   ]
  },
  {
   "cell_type": "code",
   "execution_count": 26,
   "metadata": {
    "collapsed": false
   },
   "outputs": [
    {
     "name": "stdout",
     "output_type": "stream",
     "text": [
      "(354000.0, 628500.0, 8648400.0, 8922600.0)\n"
     ]
    }
   ],
   "source": [
    "# Print grid extent\n",
    "print(ls8.extent)"
   ]
  },
  {
   "cell_type": "markdown",
   "metadata": {},
   "source": [
    "When opening or creating a `RegularGrid`, a non-default band type can be specified as a keyword argument."
   ]
  },
  {
   "cell_type": "code",
   "execution_count": 27,
   "metadata": {
    "collapsed": false
   },
   "outputs": [
    {
     "data": {
      "text/plain": [
       "True"
      ]
     },
     "execution_count": 27,
     "metadata": {},
     "output_type": "execute_result"
    }
   ],
   "source": [
    "# Specify the band backend and verify that the data are the same\n",
    "ls8_numpy = read_gtiff(\"LC80080032016087LGN00_B2.TIF\", bandclass=SimpleBand)\n",
    "np.all(ls8[:,:] == ls8_numpy[:,:])    # True"
   ]
  },
  {
   "cell_type": "markdown",
   "metadata": {},
   "source": [
    "In the above, the slice syntax `[:,:]` is used to get an array of all grid data. Because the grid `ls8` has only a single band in this case, the data array has two dimensions. The normal simple slicing rules apply, i.e. one can do things like:"
   ]
  },
  {
   "cell_type": "code",
   "execution_count": 28,
   "metadata": {
    "collapsed": false
   },
   "outputs": [
    {
     "name": "stdout",
     "output_type": "stream",
     "text": [
      "(1000, 500)\n"
     ]
    }
   ],
   "source": [
    "subgrid = ls8[2000:3000, 4000:4500]\n",
    "print(subgrid.shape)"
   ]
  },
  {
   "cell_type": "code",
   "execution_count": 29,
   "metadata": {
    "collapsed": false
   },
   "outputs": [
    {
     "name": "stdout",
     "output_type": "stream",
     "text": [
      "(4571, 4576)\n"
     ]
    }
   ],
   "source": [
    "every_other = ls8[::2, ::2]\n",
    "print(every_other.shape)"
   ]
  },
  {
   "cell_type": "markdown",
   "metadata": {},
   "source": [
    "The `RegularGrid` instance provides methods for sampling rasters, computing statistics, clipping and resizing, and resampling."
   ]
  },
  {
   "cell_type": "markdown",
   "metadata": {},
   "source": [
    "**Note**\n",
    "\n",
    "When getting raster data, the array provided by slicing is not necessarily a view of the underlying data, and may be a copy instead. Modifying the array is not guaranteed to modify the raster. When the raster data must be replaced by an element-wise computation, use the `Grid.apply(func)` method, which operates in-place. The `apply` method may be chained.\n",
    "\n",
    "```\n",
    "# Example\n",
    "grid.apply(lambda x: x**2) \\\n",
    "    .apply(np.sin) \\\n",
    "    .apply(lambda x: np.where(x < 0.5, grid.nodata, x))\n",
    "```\n",
    "\n",
    "This handles nodata pixels automatically. If the raster data must be replaced by arbitrary data, set it explicitly with `Grid[:,:] = ...`.\n",
    "\n",
    "```\n",
    "# Example\n",
    "grid[:,:] = np.convolve(np.ones([3,3])/9.0, grid[:,:], mode='same')\n",
    "```"
   ]
  },
  {
   "cell_type": "markdown",
   "metadata": {
    "collapsed": true
   },
   "source": [
    "New `RegularGrid` instances are created by specifying a geotransform. The geotransform is represented by a tuple of the form\n",
    "```\n",
    "transform = (xll, yll, dx, dy, sx, sy)\n",
    "```\n",
    "where `xll` and `yll` are the coordinates of the lower left grid corner, `dx` and `dy` specify resolution, and `sx` and `sy` specify grid skew and rotation.\n",
    "\n",
    "Additional arguments define the grid size and coordinate reference system, and initialize grid data. The following creates a \"north-up\" orthogonal grid with uniform spacing of 10 meters and an origin at (0, 0)."
   ]
  },
  {
   "cell_type": "code",
   "execution_count": 30,
   "metadata": {
    "collapsed": true
   },
   "outputs": [],
   "source": [
    "from karta.crs import WebMercator\n",
    "grid = RegularGrid([0, 0, 10.0, 10.0, 0.0, 0.0],\n",
    "                   values=np.zeros([1000, 1000]),\n",
    "                   nodata_value=np.nan,\n",
    "                   crs=WebMercator)"
   ]
  },
  {
   "cell_type": "code",
   "execution_count": 31,
   "metadata": {
    "collapsed": false
   },
   "outputs": [
    {
     "data": {
      "text/plain": [
       "(10.0, 10.0)"
      ]
     },
     "execution_count": 31,
     "metadata": {},
     "output_type": "execute_result"
    }
   ],
   "source": [
    "grid.resolution"
   ]
  },
  {
   "cell_type": "code",
   "execution_count": 32,
   "metadata": {
    "collapsed": false
   },
   "outputs": [
    {
     "data": {
      "text/plain": [
       "(5.0, 9995.0, 5.0, 9995.0)"
      ]
     },
     "execution_count": 32,
     "metadata": {},
     "output_type": "execute_result"
    }
   ],
   "source": [
    "grid.extent"
   ]
  },
  {
   "cell_type": "code",
   "execution_count": 33,
   "metadata": {
    "collapsed": false
   },
   "outputs": [
    {
     "data": {
      "text/plain": [
       "(0.0, 0.0, 10000.0, 10000.0)"
      ]
     },
     "execution_count": 33,
     "metadata": {},
     "output_type": "execute_result"
    }
   ],
   "source": [
    "grid.bbox"
   ]
  },
  {
   "cell_type": "code",
   "execution_count": null,
   "metadata": {
    "collapsed": true
   },
   "outputs": [],
   "source": []
  }
 ],
 "metadata": {
  "kernelspec": {
   "display_name": "Python 3",
   "language": "python",
   "name": "python3"
  },
  "language_info": {
   "codemirror_mode": {
    "name": "ipython",
    "version": 3
   },
   "file_extension": ".py",
   "mimetype": "text/x-python",
   "name": "python",
   "nbconvert_exporter": "python",
   "pygments_lexer": "ipython3",
   "version": "3.5.1"
  }
 },
 "nbformat": 4,
 "nbformat_minor": 0
}
